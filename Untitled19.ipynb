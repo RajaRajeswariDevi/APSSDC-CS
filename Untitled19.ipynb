{
  "nbformat": 4,
  "nbformat_minor": 0,
  "metadata": {
    "colab": {
      "provenance": [],
      "authorship_tag": "ABX9TyNbUVdsJU1zjPn+z+mZ0DEH",
      "include_colab_link": true
    },
    "kernelspec": {
      "name": "python3",
      "display_name": "Python 3"
    },
    "language_info": {
      "name": "python"
    }
  },
  "cells": [
    {
      "cell_type": "markdown",
      "metadata": {
        "id": "view-in-github",
        "colab_type": "text"
      },
      "source": [
        "<a href=\"https://colab.research.google.com/github/RajaRajeswariDevi/APSSDC-CYBER-SECURITY/blob/main/Untitled19.ipynb\" target=\"_parent\"><img src=\"https://colab.research.google.com/assets/colab-badge.svg\" alt=\"Open In Colab\"/></a>"
      ]
    },
    {
      "cell_type": "code",
      "execution_count": 2,
      "metadata": {
        "id": "Xw8Ryvi1gzEA"
      },
      "outputs": [],
      "source": [
        "import tensorflow as tf\n",
        "from tensorflow.keras.models import Model\n",
        "from tensorflow.keras.layers import Input, Conv2D, MaxPooling2D, AveragePooling2D, Flatten, Dense, Add, Multiply, GlobalAveragePooling2D\n",
        "from tensorflow.keras.layers import Concatenate, BatchNormalization, ReLU, Activation\n",
        "from tensorflow.keras.preprocessing.image import ImageDataGenerator\n",
        "from tensorflow.keras.optimizers import Adam\n"
      ]
    },
    {
      "cell_type": "code",
      "source": [
        "def inception_module(x, filters):\n",
        "    # 1x1 Convolution\n",
        "    conv1x1 = Conv2D(filters[0], (1, 1), padding='same', activation='relu')(x)\n",
        "\n",
        "    # 1x1 Convolution followed by 3x3 Convolution\n",
        "    conv1x1_3x3 = Conv2D(filters[1], (1, 1), padding='same', activation='relu')(x)\n",
        "    conv3x3 = Conv2D(filters[2], (3, 3), padding='same', activation='relu')(conv1x1_3x3)\n",
        "\n",
        "    # 1x1 Convolution followed by 5x5 Convolution\n",
        "    conv1x1_5x5 = Conv2D(filters[3], (1, 1), padding='same', activation='relu')(x)\n",
        "    conv5x5 = Conv2D(filters[4], (5, 5), padding='same', activation='relu')(conv1x1_5x5)\n",
        "\n",
        "    # 3x3 Max Pooling followed by 1x1 Convolution\n",
        "    pool = MaxPooling2D((3, 3), strides=(1, 1), padding='same')(x)\n",
        "    conv_pool = Conv2D(filters[5], (1, 1), padding='same', activation='relu')(pool)\n",
        "\n",
        "    # Concatenate all filters\n",
        "    inception_output = Concatenate()([conv1x1, conv3x3, conv5x5, conv_pool])\n",
        "    return inception_output\n"
      ],
      "metadata": {
        "id": "ApUdgjmAlPXZ"
      },
      "execution_count": 3,
      "outputs": []
    },
    {
      "cell_type": "code",
      "source": [
        "def spatial_attention(x):\n",
        "    avg_pool = GlobalAveragePooling2D()(x)\n",
        "    avg_pool = tf.expand_dims(avg_pool, 1)\n",
        "    avg_pool = tf.expand_dims(avg_pool, 1)\n",
        "\n",
        "    max_pool = tf.reduce_max(x, axis=-1, keepdims=True)\n",
        "    max_pool = GlobalAveragePooling2D()(max_pool)\n",
        "    max_pool = tf.expand_dims(max_pool, 1)\n",
        "    max_pool = tf.expand_dims(max_pool, 1)\n",
        "\n",
        "    concat = Concatenate()([avg_pool, max_pool])\n",
        "    conv = Conv2D(1, (1, 1), activation='sigmoid')(concat)\n",
        "\n",
        "    attention = Multiply()([x, conv])\n",
        "    return attention\n"
      ],
      "metadata": {
        "id": "Jyab8ZQ_l9HD"
      },
      "execution_count": 4,
      "outputs": []
    },
    {
      "cell_type": "code",
      "source": [
        "def channel_attention(x, reduction=16):\n",
        "    channel_axis = -1\n",
        "    filters = x.shape[channel_axis]\n",
        "\n",
        "    avg_pool = GlobalAveragePooling2D()(x)\n",
        "    avg_pool = tf.expand_dims(avg_pool, 1)\n",
        "    avg_pool = tf.expand_dims(avg_pool, 1)\n",
        "    avg_pool = Dense(filters // reduction, activation='relu')(avg_pool)\n",
        "    avg_pool = Dense(filters, activation='sigmoid')(avg_pool)\n",
        "\n",
        "    max_pool = tf.reduce_max(x, axis=[1, 2], keepdims=True)\n",
        "    max_pool = Dense(filters // reduction, activation='relu')(max_pool)\n",
        "    max_pool = Dense(filters, activation='sigmoid')(max_pool)\n",
        "\n",
        "    attention = Add()([avg_pool, max_pool])\n",
        "    attention = Activation('sigmoid')(attention)\n",
        "    attention = Multiply()([x, attention])\n",
        "\n",
        "    return attention\n"
      ],
      "metadata": {
        "id": "J8JVwgH9l_Nk"
      },
      "execution_count": 5,
      "outputs": []
    },
    {
      "cell_type": "code",
      "source": [
        "def create_model(input_shape, num_classes):\n",
        "    inputs = Input(shape=input_shape)\n",
        "\n",
        "    # Initial Convolution\n",
        "    x = Conv2D(32, (3, 3), padding='same', activation='relu')(inputs)\n",
        "    x = MaxPooling2D((2, 2))(x)\n",
        "\n",
        "    # Inception Module\n",
        "    x = inception_module(x, [32, 64, 128, 128, 256, 32])\n",
        "\n",
        "    # Apply Spatial Attention\n",
        "    x = spatial_attention(x)\n",
        "\n",
        "    # Apply Channel-Wise Attention\n",
        "    x = channel_attention(x)\n",
        "\n",
        "    # Fully Connected Layers\n",
        "    x = Flatten()(x)\n",
        "    x = Dense(512, activation='relu')(x)\n",
        "    x = Dense(num_classes, activation='softmax')(x)\n",
        "\n",
        "    model = Model(inputs, x)\n",
        "    return model\n"
      ],
      "metadata": {
        "id": "ugeBWHCOmC7F"
      },
      "execution_count": 6,
      "outputs": []
    }
  ]
}